{
 "cells": [
  {
   "cell_type": "code",
   "execution_count": 1,
   "id": "ef836faf-0453-4263-8101-5063ba9706db",
   "metadata": {
    "tags": []
   },
   "outputs": [],
   "source": [
    "# import the necessary libraries\n",
    "import pandas as pd\n",
    "import numpy as np"
   ]
  },
  {
   "cell_type": "code",
   "execution_count": 2,
   "id": "b339ff2f-af4c-483e-a187-ab966d3312e9",
   "metadata": {
    "tags": []
   },
   "outputs": [
    {
     "data": {
      "text/html": [
       "<div>\n",
       "<style scoped>\n",
       "    .dataframe tbody tr th:only-of-type {\n",
       "        vertical-align: middle;\n",
       "    }\n",
       "\n",
       "    .dataframe tbody tr th {\n",
       "        vertical-align: top;\n",
       "    }\n",
       "\n",
       "    .dataframe thead th {\n",
       "        text-align: right;\n",
       "    }\n",
       "</style>\n",
       "<table border=\"1\" class=\"dataframe\">\n",
       "  <thead>\n",
       "    <tr style=\"text-align: right;\">\n",
       "      <th></th>\n",
       "      <th>Area Code</th>\n",
       "      <th>Area</th>\n",
       "      <th>Item Code</th>\n",
       "      <th>Item</th>\n",
       "      <th>Element Code</th>\n",
       "      <th>Element</th>\n",
       "      <th>Unit</th>\n",
       "      <th>Y2014</th>\n",
       "      <th>Y2015</th>\n",
       "      <th>Y2016</th>\n",
       "      <th>Y2017</th>\n",
       "      <th>Y2018</th>\n",
       "    </tr>\n",
       "  </thead>\n",
       "  <tbody>\n",
       "    <tr>\n",
       "      <th>0</th>\n",
       "      <td>4</td>\n",
       "      <td>Algeria</td>\n",
       "      <td>2501</td>\n",
       "      <td>Population</td>\n",
       "      <td>511</td>\n",
       "      <td>Total Population - Both sexes</td>\n",
       "      <td>1000 persons</td>\n",
       "      <td>38924.00</td>\n",
       "      <td>39728.00</td>\n",
       "      <td>40551.00</td>\n",
       "      <td>41389.00</td>\n",
       "      <td>42228.00</td>\n",
       "    </tr>\n",
       "    <tr>\n",
       "      <th>1</th>\n",
       "      <td>4</td>\n",
       "      <td>Algeria</td>\n",
       "      <td>2501</td>\n",
       "      <td>Population</td>\n",
       "      <td>5301</td>\n",
       "      <td>Domestic supply quantity</td>\n",
       "      <td>1000 tonnes</td>\n",
       "      <td>0.00</td>\n",
       "      <td>0.00</td>\n",
       "      <td>0.00</td>\n",
       "      <td>0.00</td>\n",
       "      <td>0.00</td>\n",
       "    </tr>\n",
       "    <tr>\n",
       "      <th>2</th>\n",
       "      <td>4</td>\n",
       "      <td>Algeria</td>\n",
       "      <td>2901</td>\n",
       "      <td>Grand Total</td>\n",
       "      <td>664</td>\n",
       "      <td>Food supply (kcal/capita/day)</td>\n",
       "      <td>kcal/capita/day</td>\n",
       "      <td>3377.00</td>\n",
       "      <td>3379.00</td>\n",
       "      <td>3372.00</td>\n",
       "      <td>3341.00</td>\n",
       "      <td>3322.00</td>\n",
       "    </tr>\n",
       "    <tr>\n",
       "      <th>3</th>\n",
       "      <td>4</td>\n",
       "      <td>Algeria</td>\n",
       "      <td>2901</td>\n",
       "      <td>Grand Total</td>\n",
       "      <td>674</td>\n",
       "      <td>Protein supply quantity (g/capita/day)</td>\n",
       "      <td>g/capita/day</td>\n",
       "      <td>94.90</td>\n",
       "      <td>94.35</td>\n",
       "      <td>94.72</td>\n",
       "      <td>92.82</td>\n",
       "      <td>91.83</td>\n",
       "    </tr>\n",
       "    <tr>\n",
       "      <th>4</th>\n",
       "      <td>4</td>\n",
       "      <td>Algeria</td>\n",
       "      <td>2901</td>\n",
       "      <td>Grand Total</td>\n",
       "      <td>684</td>\n",
       "      <td>Fat supply quantity (g/capita/day)</td>\n",
       "      <td>g/capita/day</td>\n",
       "      <td>80.06</td>\n",
       "      <td>79.36</td>\n",
       "      <td>77.40</td>\n",
       "      <td>80.19</td>\n",
       "      <td>77.28</td>\n",
       "    </tr>\n",
       "  </tbody>\n",
       "</table>\n",
       "</div>"
      ],
      "text/plain": [
       "   Area Code     Area  Item Code         Item  Element Code  \\\n",
       "0          4  Algeria       2501   Population           511   \n",
       "1          4  Algeria       2501   Population          5301   \n",
       "2          4  Algeria       2901  Grand Total           664   \n",
       "3          4  Algeria       2901  Grand Total           674   \n",
       "4          4  Algeria       2901  Grand Total           684   \n",
       "\n",
       "                                  Element             Unit     Y2014  \\\n",
       "0           Total Population - Both sexes     1000 persons  38924.00   \n",
       "1                Domestic supply quantity      1000 tonnes      0.00   \n",
       "2           Food supply (kcal/capita/day)  kcal/capita/day   3377.00   \n",
       "3  Protein supply quantity (g/capita/day)     g/capita/day     94.90   \n",
       "4      Fat supply quantity (g/capita/day)     g/capita/day     80.06   \n",
       "\n",
       "      Y2015     Y2016     Y2017     Y2018  \n",
       "0  39728.00  40551.00  41389.00  42228.00  \n",
       "1      0.00      0.00      0.00      0.00  \n",
       "2   3379.00   3372.00   3341.00   3322.00  \n",
       "3     94.35     94.72     92.82     91.83  \n",
       "4     79.36     77.40     80.19     77.28  "
      ]
     },
     "execution_count": 2,
     "metadata": {},
     "output_type": "execute_result"
    }
   ],
   "source": [
    "# csv file with 'latin-1' encoding \n",
    "df = pd.read_csv('FoodBalanceSheets_E_Africa_NOFLAG.csv', encoding = 'latin-1')\n",
    "df.head()"
   ]
  },
  {
   "cell_type": "code",
   "execution_count": 3,
   "id": "def548f7-0757-4bd4-9b1d-f6e73d18bcbc",
   "metadata": {
    "tags": []
   },
   "outputs": [
    {
     "name": "stdout",
     "output_type": "stream",
     "text": [
      "Area\n",
      "Kenya                          1548\n",
      "Egypt                          1458\n",
      "Nigeria                        1457\n",
      "Côte d'Ivoire                  1454\n",
      "Senegal                        1452\n",
      "Cameroon                       1441\n",
      "Uganda                         1435\n",
      "Ethiopia                       1428\n",
      "Zambia                         1425\n",
      "Madagascar                     1425\n",
      "Malawi                         1411\n",
      "United Republic of Tanzania    1409\n",
      "Angola                         1407\n",
      "Mozambique                     1406\n",
      "Rwanda                         1397\n",
      "Congo                          1395\n",
      "South Africa                   1395\n",
      "Guinea                         1383\n",
      "Burkina Faso                   1383\n",
      "Morocco                        1369\n",
      "Botswana                       1368\n",
      "Niger                          1365\n",
      "Zimbabwe                       1365\n",
      "Mauritius                      1340\n",
      "Ghana                          1333\n",
      "Tunisia                        1314\n",
      "Chad                           1281\n",
      "Sudan                          1279\n",
      "Algeria                        1279\n",
      "Namibia                        1269\n",
      "Central African Republic       1262\n",
      "Benin                          1253\n",
      "Eswatini                       1251\n",
      "Mali                           1243\n",
      "Togo                           1234\n",
      "Gabon                          1206\n",
      "Cabo Verde                     1193\n",
      "Sierra Leone                   1191\n",
      "Liberia                        1135\n",
      "Sao Tome and Principe          1122\n",
      "Gambia                         1116\n",
      "Lesotho                        1110\n",
      "Mauritania                     1108\n",
      "Guinea-Bissau                  1076\n",
      "Djibouti                       1061\n",
      "Seychelles                       68\n",
      "Sudan (former)                   53\n",
      "Comoros                          45\n",
      "Ethiopia PDR                     39\n",
      "Name: Y2017, dtype: int64\n"
     ]
    }
   ],
   "source": [
    "# Number 1\n",
    "# arranged in order to get the highest values.\n",
    "number_1 = df.groupby('Area')['Y2017'].count().sort_values(ascending = False)\n",
    "print(number_1)"
   ]
  },
  {
   "cell_type": "markdown",
   "id": "90561f90-082e-4ed5-9c10-509c6aebbb66",
   "metadata": {},
   "source": [
    "Kenya has the highest sum with 1548."
   ]
  },
  {
   "cell_type": "code",
   "execution_count": 4,
   "id": "0cb80999-58b6-415d-8270-4d7f5725e8aa",
   "metadata": {
    "tags": []
   },
   "outputs": [
    {
     "data": {
      "text/plain": [
       "Element\n",
       "Domestic supply quantity                  31214.98\n",
       "Export Quantity                             494.75\n",
       "Fat supply quantity (g/capita/day)           91.85\n",
       "Feed                                       2070.22\n",
       "Food                                      21120.65\n",
       "Food supply (kcal/capita/day)              7685.00\n",
       "Food supply quantity (kg/capita/yr)         871.59\n",
       "Import Quantity                            1721.80\n",
       "Losses                                     2176.00\n",
       "Other uses (non-food)                      3957.12\n",
       "Processing                                 1803.00\n",
       "Production                                29482.89\n",
       "Protein supply quantity (g/capita/day)      173.05\n",
       "Residuals                                  -616.00\n",
       "Seed                                        699.00\n",
       "Stock Variation                            -505.00\n",
       "Total Population - Both sexes             24234.00\n",
       "Name: Y2015, dtype: float64"
      ]
     },
     "execution_count": 4,
     "metadata": {},
     "output_type": "execute_result"
    }
   ],
   "source": [
    "# Number 5\n",
    "number_5 = df[df['Area'] == 'Madagascar']\n",
    "number_5.groupby('Element')['Y2015'].sum()"
   ]
  },
  {
   "cell_type": "markdown",
   "id": "d07903d0-c4e7-42ce-8087-eb47360d890e",
   "metadata": {},
   "source": [
    "The total protein supply in Madagascar in 2015 is 173.05"
   ]
  },
  {
   "cell_type": "code",
   "execution_count": 5,
   "id": "fbe4e78d-6f86-4e45-b301-079bd98c52a0",
   "metadata": {
    "tags": []
   },
   "outputs": [
    {
     "data": {
      "text/plain": [
       "Y2015    4229\n",
       "Y2016    4231\n",
       "Y2017    4231\n",
       "Y2018    4217\n",
       "Name: Stock Variation, dtype: int64"
      ]
     },
     "execution_count": 5,
     "metadata": {},
     "output_type": "execute_result"
    }
   ],
   "source": [
    "# Number 7 --- to get the Highest Stock Variation \n",
    "number_7 = df.groupby('Element')[['Y2015', 'Y2016', 'Y2017', 'Y2018']].count()\n",
    "number_7.loc['Stock Variation', :]"
   ]
  },
  {
   "cell_type": "markdown",
   "id": "d084b680-308f-404a-924f-a38f74389ce8",
   "metadata": {
    "tags": []
   },
   "source": [
    "The year with the highest sum of Stock Variation are 2016 and 2017, with 4231 and 4231 respectively. "
   ]
  },
  {
   "cell_type": "code",
   "execution_count": 6,
   "id": "e0670346-2371-428b-b202-56b9d675044f",
   "metadata": {
    "tags": []
   },
   "outputs": [
    {
     "data": {
      "text/plain": [
       "Area\n",
       "Sudan (former)               0.00\n",
       "Ethiopia PDR                 0.00\n",
       "Comoros                     59.84\n",
       "Seychelles                 442.34\n",
       "Sao Tome and Principe    12662.63\n",
       "Cabo Verde               14650.74\n",
       "Guinea-Bissau            19102.77\n",
       "Name: Y2017, dtype: float64"
      ]
     },
     "execution_count": 6,
     "metadata": {},
     "output_type": "execute_result"
    }
   ],
   "source": [
    "# Arranged from lowest to highest\n",
    "number_8 = df.groupby('Area')['Y2017'].sum().sort_values()\n",
    "# First seven values from the lowest \n",
    "number_8[:7]"
   ]
  },
  {
   "cell_type": "markdown",
   "id": "c07b4b72-1a01-4b9d-b56f-9682cd7ae15c",
   "metadata": {},
   "source": [
    "Guinea Bissau is the area with the seventh lowest value of 19102.77"
   ]
  },
  {
   "cell_type": "code",
   "execution_count": 7,
   "id": "d83e4c5e-88a1-47e0-91e2-120da2cc6c0e",
   "metadata": {
    "tags": []
   },
   "outputs": [
    {
     "name": "stdout",
     "output_type": "stream",
     "text": [
      "Year with the least correlation with 'Element Code is': Y2016\n",
      "Correlation: 0.02344399758496138\n"
     ]
    }
   ],
   "source": [
    "# Number_10\n",
    "# year columns from 2014 - 2018\n",
    "year_columns = ['Y2014', 'Y2015', 'Y2016', 'Y2017', 'Y2018']\n",
    "\n",
    "# to calculate correlation between 'Element Code' and each year from 2014 to 2018\n",
    "correlation = df[year_columns].apply(lambda year: df['Element Code'].corr(year))\n",
    "\n",
    "\n",
    "# Find the year with the least correlation\n",
    "# Find the year with the least correlation\n",
    "least_correlated_year = correlation.idxmin()\n",
    "min_correlation = correlation.min()\n",
    "\n",
    "print(f\"Year with the least correlation with 'Element Code is': {least_correlated_year}\")\n",
    "print(f\"Correlation: {min_correlation}\")    "
   ]
  },
  {
   "cell_type": "code",
   "execution_count": 8,
   "id": "0f0372bb-bc64-4111-a4ef-3d5141a1160c",
   "metadata": {
    "tags": []
   },
   "outputs": [
    {
     "data": {
      "text/html": [
       "<div>\n",
       "<style scoped>\n",
       "    .dataframe tbody tr th:only-of-type {\n",
       "        vertical-align: middle;\n",
       "    }\n",
       "\n",
       "    .dataframe tbody tr th {\n",
       "        vertical-align: top;\n",
       "    }\n",
       "\n",
       "    .dataframe thead th {\n",
       "        text-align: right;\n",
       "    }\n",
       "</style>\n",
       "<table border=\"1\" class=\"dataframe\">\n",
       "  <thead>\n",
       "    <tr style=\"text-align: right;\">\n",
       "      <th></th>\n",
       "      <th>count</th>\n",
       "      <th>mean</th>\n",
       "      <th>std</th>\n",
       "      <th>min</th>\n",
       "      <th>25%</th>\n",
       "      <th>50%</th>\n",
       "      <th>75%</th>\n",
       "      <th>max</th>\n",
       "    </tr>\n",
       "  </thead>\n",
       "  <tbody>\n",
       "    <tr>\n",
       "      <th>Area Code</th>\n",
       "      <td>60943.0</td>\n",
       "      <td>134.265576</td>\n",
       "      <td>72.605709</td>\n",
       "      <td>4.0</td>\n",
       "      <td>74.0</td>\n",
       "      <td>136.00</td>\n",
       "      <td>195.00</td>\n",
       "      <td>276.0</td>\n",
       "    </tr>\n",
       "    <tr>\n",
       "      <th>Item Code</th>\n",
       "      <td>60943.0</td>\n",
       "      <td>2687.176706</td>\n",
       "      <td>146.055739</td>\n",
       "      <td>2501.0</td>\n",
       "      <td>2562.0</td>\n",
       "      <td>2630.00</td>\n",
       "      <td>2775.00</td>\n",
       "      <td>2961.0</td>\n",
       "    </tr>\n",
       "    <tr>\n",
       "      <th>Element Code</th>\n",
       "      <td>60943.0</td>\n",
       "      <td>3814.856456</td>\n",
       "      <td>2212.007033</td>\n",
       "      <td>511.0</td>\n",
       "      <td>684.0</td>\n",
       "      <td>5142.00</td>\n",
       "      <td>5511.00</td>\n",
       "      <td>5911.0</td>\n",
       "    </tr>\n",
       "    <tr>\n",
       "      <th>Y2014</th>\n",
       "      <td>59354.0</td>\n",
       "      <td>134.196282</td>\n",
       "      <td>1567.663696</td>\n",
       "      <td>-1796.0</td>\n",
       "      <td>0.0</td>\n",
       "      <td>0.09</td>\n",
       "      <td>8.34</td>\n",
       "      <td>176405.0</td>\n",
       "    </tr>\n",
       "    <tr>\n",
       "      <th>Y2015</th>\n",
       "      <td>59395.0</td>\n",
       "      <td>135.235966</td>\n",
       "      <td>1603.403984</td>\n",
       "      <td>-3161.0</td>\n",
       "      <td>0.0</td>\n",
       "      <td>0.08</td>\n",
       "      <td>8.46</td>\n",
       "      <td>181137.0</td>\n",
       "    </tr>\n",
       "    <tr>\n",
       "      <th>Y2016</th>\n",
       "      <td>59408.0</td>\n",
       "      <td>136.555222</td>\n",
       "      <td>1640.007194</td>\n",
       "      <td>-3225.0</td>\n",
       "      <td>0.0</td>\n",
       "      <td>0.08</td>\n",
       "      <td>8.43</td>\n",
       "      <td>185960.0</td>\n",
       "    </tr>\n",
       "    <tr>\n",
       "      <th>Y2017</th>\n",
       "      <td>59437.0</td>\n",
       "      <td>140.917765</td>\n",
       "      <td>1671.862359</td>\n",
       "      <td>-1582.0</td>\n",
       "      <td>0.0</td>\n",
       "      <td>0.10</td>\n",
       "      <td>9.00</td>\n",
       "      <td>190873.0</td>\n",
       "    </tr>\n",
       "    <tr>\n",
       "      <th>Y2018</th>\n",
       "      <td>59507.0</td>\n",
       "      <td>143.758381</td>\n",
       "      <td>1710.782658</td>\n",
       "      <td>-3396.0</td>\n",
       "      <td>0.0</td>\n",
       "      <td>0.07</td>\n",
       "      <td>9.00</td>\n",
       "      <td>195875.0</td>\n",
       "    </tr>\n",
       "  </tbody>\n",
       "</table>\n",
       "</div>"
      ],
      "text/plain": [
       "                count         mean          std     min     25%      50%  \\\n",
       "Area Code     60943.0   134.265576    72.605709     4.0    74.0   136.00   \n",
       "Item Code     60943.0  2687.176706   146.055739  2501.0  2562.0  2630.00   \n",
       "Element Code  60943.0  3814.856456  2212.007033   511.0   684.0  5142.00   \n",
       "Y2014         59354.0   134.196282  1567.663696 -1796.0     0.0     0.09   \n",
       "Y2015         59395.0   135.235966  1603.403984 -3161.0     0.0     0.08   \n",
       "Y2016         59408.0   136.555222  1640.007194 -3225.0     0.0     0.08   \n",
       "Y2017         59437.0   140.917765  1671.862359 -1582.0     0.0     0.10   \n",
       "Y2018         59507.0   143.758381  1710.782658 -3396.0     0.0     0.07   \n",
       "\n",
       "                  75%       max  \n",
       "Area Code      195.00     276.0  \n",
       "Item Code     2775.00    2961.0  \n",
       "Element Code  5511.00    5911.0  \n",
       "Y2014            8.34  176405.0  \n",
       "Y2015            8.46  181137.0  \n",
       "Y2016            8.43  185960.0  \n",
       "Y2017            9.00  190873.0  \n",
       "Y2018            9.00  195875.0  "
      ]
     },
     "execution_count": 8,
     "metadata": {},
     "output_type": "execute_result"
    }
   ],
   "source": [
    "number_11 = df.describe().T\n",
    "number_11"
   ]
  },
  {
   "cell_type": "markdown",
   "id": "843703cb-22f9-400e-b395-7669200f0ed4",
   "metadata": {},
   "source": [
    "The mean for Y2017 is '140.92' while the standard deviation is '1671.86'"
   ]
  },
  {
   "cell_type": "code",
   "execution_count": 9,
   "id": "08423ff5-5346-45ab-ab16-70904cf425a7",
   "metadata": {
    "tags": []
   },
   "outputs": [
    {
     "name": "stdout",
     "output_type": "stream",
     "text": [
      "There are 49 unique countries in the dataset.\n"
     ]
    }
   ],
   "source": [
    "# to check the number of unique values in 'Area'\n",
    "number_12 = df['Area'].unique()\n",
    "print('There are {} unique countries in the dataset.'.format(number_12.shape[0]))"
   ]
  },
  {
   "cell_type": "code",
   "execution_count": 10,
   "id": "3c21375e-0c37-4f12-93c7-46dbe9522fb7",
   "metadata": {
    "tags": []
   },
   "outputs": [
    {
     "name": "stdout",
     "output_type": "stream",
     "text": [
      "Element\n",
      "Domestic supply quantity                  2088198.10\n",
      "Export Quantity                            182338.80\n",
      "Fat supply quantity (g/capita/day)          10253.84\n",
      "Feed                                       223705.68\n",
      "Food                                      1258888.28\n",
      "Food supply (kcal/capita/day)              454681.00\n",
      "Food supply quantity (kg/capita/yr)         48690.04\n",
      "Import Quantity                            294559.09\n",
      "Losses                                     160614.00\n",
      "Other uses (non-food)                       91645.97\n",
      "Processing                                 292836.00\n",
      "Production                                2030056.89\n",
      "Protein supply quantity (g/capita/day)      11842.45\n",
      "Residuals                                   35500.00\n",
      "Seed                                        24870.14\n",
      "Stock Variation                             54316.91\n",
      "Total Population - Both sexes             1112641.00\n",
      "Tourist consumption                            91.00\n",
      "Name: Y2017, dtype: float64\n"
     ]
    }
   ],
   "source": [
    "number_13 = df.groupby('Element')['Y2017'].sum()\n",
    "print(number_13)"
   ]
  },
  {
   "cell_type": "markdown",
   "id": "307a8034-393a-43ba-bdb5-8b99f1e5eada",
   "metadata": {},
   "source": [
    "The sum of processing in 2017 is 292836.00"
   ]
  },
  {
   "cell_type": "code",
   "execution_count": 11,
   "id": "3d1be498-08a6-4447-92ea-75d189079c61",
   "metadata": {
    "tags": []
   },
   "outputs": [
    {
     "data": {
      "text/html": [
       "<div>\n",
       "<style scoped>\n",
       "    .dataframe tbody tr th:only-of-type {\n",
       "        vertical-align: middle;\n",
       "    }\n",
       "\n",
       "    .dataframe tbody tr th {\n",
       "        vertical-align: top;\n",
       "    }\n",
       "\n",
       "    .dataframe thead th {\n",
       "        text-align: right;\n",
       "    }\n",
       "</style>\n",
       "<table border=\"1\" class=\"dataframe\">\n",
       "  <thead>\n",
       "    <tr style=\"text-align: right;\">\n",
       "      <th></th>\n",
       "      <th>Missing Count</th>\n",
       "      <th>Percentage Missing(%)</th>\n",
       "    </tr>\n",
       "  </thead>\n",
       "  <tbody>\n",
       "    <tr>\n",
       "      <th>Area Code</th>\n",
       "      <td>0</td>\n",
       "      <td>0.000</td>\n",
       "    </tr>\n",
       "    <tr>\n",
       "      <th>Area</th>\n",
       "      <td>0</td>\n",
       "      <td>0.000</td>\n",
       "    </tr>\n",
       "    <tr>\n",
       "      <th>Item Code</th>\n",
       "      <td>0</td>\n",
       "      <td>0.000</td>\n",
       "    </tr>\n",
       "    <tr>\n",
       "      <th>Item</th>\n",
       "      <td>0</td>\n",
       "      <td>0.000</td>\n",
       "    </tr>\n",
       "    <tr>\n",
       "      <th>Element Code</th>\n",
       "      <td>0</td>\n",
       "      <td>0.000</td>\n",
       "    </tr>\n",
       "    <tr>\n",
       "      <th>Element</th>\n",
       "      <td>0</td>\n",
       "      <td>0.000</td>\n",
       "    </tr>\n",
       "    <tr>\n",
       "      <th>Unit</th>\n",
       "      <td>0</td>\n",
       "      <td>0.000</td>\n",
       "    </tr>\n",
       "    <tr>\n",
       "      <th>Y2014</th>\n",
       "      <td>1589</td>\n",
       "      <td>2.607</td>\n",
       "    </tr>\n",
       "    <tr>\n",
       "      <th>Y2015</th>\n",
       "      <td>1548</td>\n",
       "      <td>2.540</td>\n",
       "    </tr>\n",
       "    <tr>\n",
       "      <th>Y2016</th>\n",
       "      <td>1535</td>\n",
       "      <td>2.519</td>\n",
       "    </tr>\n",
       "    <tr>\n",
       "      <th>Y2017</th>\n",
       "      <td>1506</td>\n",
       "      <td>2.471</td>\n",
       "    </tr>\n",
       "    <tr>\n",
       "      <th>Y2018</th>\n",
       "      <td>1436</td>\n",
       "      <td>2.356</td>\n",
       "    </tr>\n",
       "  </tbody>\n",
       "</table>\n",
       "</div>"
      ],
      "text/plain": [
       "              Missing Count  Percentage Missing(%)\n",
       "Area Code                 0                  0.000\n",
       "Area                      0                  0.000\n",
       "Item Code                 0                  0.000\n",
       "Item                      0                  0.000\n",
       "Element Code              0                  0.000\n",
       "Element                   0                  0.000\n",
       "Unit                      0                  0.000\n",
       "Y2014                  1589                  2.607\n",
       "Y2015                  1548                  2.540\n",
       "Y2016                  1535                  2.519\n",
       "Y2017                  1506                  2.471\n",
       "Y2018                  1436                  2.356"
      ]
     },
     "execution_count": 11,
     "metadata": {},
     "output_type": "execute_result"
    }
   ],
   "source": [
    "# Number 15\n",
    "# to create a dataframe for count of missing values and percentage missing values\n",
    "\n",
    "missing_values = df.isnull().sum()\n",
    "percentage_missing = missing_values / len(df)*100\n",
    "# convert to 3 decimal places   - (3dp)\n",
    "percentage_missing = round(percentage_missing, 3)\n",
    "\n",
    "# Creating a DataFrame with two columns\n",
    "missing_data = pd.DataFrame({'Missing Count': missing_values, 'Percentage Missing(%)': percentage_missing})\n",
    "\n",
    "missing_data"
   ]
  },
  {
   "cell_type": "markdown",
   "id": "3f45fa87-d7e3-4ef5-8aa2-e4ba55d11110",
   "metadata": {},
   "source": [
    "The total missing values and percentage missing values in 2014 is 1598 and 2.607% respectively."
   ]
  },
  {
   "cell_type": "code",
   "execution_count": 12,
   "id": "7a0bf3d6-0124-4d53-bf3f-d01389fbe119",
   "metadata": {
    "tags": []
   },
   "outputs": [
    {
     "name": "stdout",
     "output_type": "stream",
     "text": [
      "Y2015    4251.81\n",
      "Y2018    4039.32\n",
      "Name: Wine, dtype: float64\n"
     ]
    }
   ],
   "source": [
    "# Number 16\n",
    "# the total sum of Wine produced in 2015 and 2018 respectively\n",
    "grouped = df.groupby('Item')[['Y2015', 'Y2018']].sum()\n",
    "wine = grouped.loc['Wine']\n",
    "print(wine)"
   ]
  },
  {
   "cell_type": "markdown",
   "id": "d012eac5-2979-43e0-bf66-c1344984f9ae",
   "metadata": {},
   "source": [
    "The total sum of wine produced in 2015 and 2018 is 4251.81 and 4039.32 respectively."
   ]
  },
  {
   "cell_type": "code",
   "execution_count": 13,
   "id": "29fb816b-b4dd-4642-9bfc-3ee1240c2085",
   "metadata": {
    "tags": []
   },
   "outputs": [
    {
     "data": {
      "text/plain": [
       "'e'"
      ]
     },
     "execution_count": 13,
     "metadata": {},
     "output_type": "execute_result"
    }
   ],
   "source": [
    "# Slicing Questions\n",
    "number_19 = [['him', 'sell'], [90, 28, 43]]\n",
    "number_19[0][1][1]"
   ]
  },
  {
   "cell_type": "code",
   "execution_count": 14,
   "id": "c6dddf06-b6ae-41f8-a17d-1bd99180e898",
   "metadata": {},
   "outputs": [],
   "source": [
    "# to select 89, 63, 92, 48 from the the following array\n",
    "\n",
    "array = np.array([[94, 89, 63],\n",
    "                  [93, 92, 48],\n",
    "                  [92, 94, 56]])"
   ]
  },
  {
   "cell_type": "code",
   "execution_count": 15,
   "id": "8eb964ae-b03b-47f0-97b7-0059ece371ea",
   "metadata": {
    "tags": []
   },
   "outputs": [
    {
     "data": {
      "text/plain": [
       "array([[89, 63],\n",
       "       [92, 48]])"
      ]
     },
     "execution_count": 15,
     "metadata": {},
     "output_type": "execute_result"
    }
   ],
   "source": [
    "array[:2, 1:]"
   ]
  },
  {
   "cell_type": "code",
   "execution_count": null,
   "id": "1f2839da-5820-440b-aea9-6d2e5972ad6c",
   "metadata": {},
   "outputs": [],
   "source": []
  }
 ],
 "metadata": {
  "kernelspec": {
   "display_name": "Python 3 (ipykernel)",
   "language": "python",
   "name": "python3"
  },
  "language_info": {
   "codemirror_mode": {
    "name": "ipython",
    "version": 3
   },
   "file_extension": ".py",
   "mimetype": "text/x-python",
   "name": "python",
   "nbconvert_exporter": "python",
   "pygments_lexer": "ipython3",
   "version": "3.10.9"
  }
 },
 "nbformat": 4,
 "nbformat_minor": 5
}
